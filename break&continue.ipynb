{
 "cells": [
  {
   "cell_type": "code",
   "execution_count": 1,
   "id": "b901f818-912a-4389-902e-8e5ff0e12962",
   "metadata": {},
   "outputs": [
    {
     "name": "stdout",
     "output_type": "stream",
     "text": [
      "1\n",
      "2\n",
      "3\n",
      "4\n",
      "6\n",
      "7\n",
      "8\n",
      "9\n",
      "10\n"
     ]
    }
   ],
   "source": [
    "#Write a program to print numbers from 1 to 10, but stop if the number is 5.\n",
    "\n",
    "i=1\n",
    "for i in range(10):\n",
    "    i+=1\n",
    "    if(i==5):\n",
    "        continue\n",
    "    print(i)\n",
    "    \n",
    "    "
   ]
  },
  {
   "cell_type": "code",
   "execution_count": 17,
   "id": "0e568dc7-c3e5-4e71-8d73-853b6c28480c",
   "metadata": {},
   "outputs": [
    {
     "name": "stdout",
     "output_type": "stream",
     "text": [
      "pen\n",
      "pencil\n",
      "sharpner\n"
     ]
    }
   ],
   "source": [
    "# Write a program to iterate through a list and stop when encountering a specific element.\n",
    "\n",
    "my_list=[\"pen\", \"pencil\", \"sharpner\", \"scale\", \"eraser\"]\n",
    "for i in my_list:\n",
    "    if i==\"scale\":\n",
    "        break\n",
    "    else:\n",
    "        print(i)\n",
    "    "
   ]
  },
  {
   "cell_type": "code",
   "execution_count": 2,
   "id": "68f7f064-3f55-4c40-9170-c0d85b68ba72",
   "metadata": {},
   "outputs": [
    {
     "name": "stdout",
     "output_type": "stream",
     "text": [
      "1\n",
      "3\n",
      "5\n",
      "7\n",
      "9\n"
     ]
    }
   ],
   "source": [
    "# Write a program to skip printing even numbers from 1 to 10.\n",
    "\n",
    "for i in range(10):\n",
    "    if i%2==0:\n",
    "        continue\n",
    "    else:    \n",
    "        print(i)\n",
    "    i+=1"
   ]
  },
  {
   "cell_type": "code",
   "execution_count": 3,
   "id": "eebb1632-fda9-43de-9b05-058de72ac889",
   "metadata": {},
   "outputs": [
    {
     "name": "stdout",
     "output_type": "stream",
     "text": [
      "0\n",
      "1\n",
      "2\n",
      "3\n",
      "4\n",
      "5\n",
      "6\n",
      "7\n",
      "8\n",
      "9\n"
     ]
    }
   ],
   "source": [
    "# Write a program to print numbers from 0 to 9 using range().\n",
    "\n",
    "for i in range(10):\n",
    "    print(i)\n",
    "    i+=1      \n"
   ]
  },
  {
   "cell_type": "code",
   "execution_count": 5,
   "id": "d38a65fb-88e7-4451-b97f-6ef305030f11",
   "metadata": {},
   "outputs": [
    {
     "name": "stdout",
     "output_type": "stream",
     "text": [
      "1 X 1 = 1\n",
      "2 X 1 = 2\n",
      "3 X 1 = 3\n",
      "4 X 1 = 4\n",
      "5 X 1 = 5\n"
     ]
    }
   ],
   "source": [
    "# Write a program to print multiplication tables from 1 to 5, but stop after the first table is printed for each number.\n",
    "\n",
    "n= 5\n",
    "t=1\n",
    "mul=1\n",
    "for i in range(1, 6):\n",
    "    for j in range(10):\n",
    "        j+=1\n",
    "        mul=t*j\n",
    "        if j==2:\n",
    "            break\n",
    "        else:\n",
    "            print(t,'X', j, '=',mul)\n",
    "    t+=1\n",
    "    i+=1"
   ]
  },
  {
   "cell_type": "code",
   "execution_count": 2,
   "id": "21bc2310-9ff9-47c1-aaf4-a3f91ed1f0d3",
   "metadata": {},
   "outputs": [
    {
     "name": "stdout",
     "output_type": "stream",
     "text": [
      "1\n",
      "3\n",
      "5\n",
      "7\n",
      "9\n"
     ]
    }
   ],
   "source": [
    "# Write a program to skip printing even numbers using a while loop.\n",
    "\n",
    "i=1\n",
    "while(i<=10):\n",
    "    if i%2==0:\n",
    "        pass\n",
    "    else:    \n",
    "        print(i)\n",
    "    i+=1"
   ]
  },
  {
   "cell_type": "code",
   "execution_count": null,
   "id": "c96b5e61-a6e6-4618-b96c-c0b327f5354d",
   "metadata": {},
   "outputs": [],
   "source": []
  }
 ],
 "metadata": {
  "kernelspec": {
   "display_name": "Python 3 (ipykernel)",
   "language": "python",
   "name": "python3"
  },
  "language_info": {
   "codemirror_mode": {
    "name": "ipython",
    "version": 3
   },
   "file_extension": ".py",
   "mimetype": "text/x-python",
   "name": "python",
   "nbconvert_exporter": "python",
   "pygments_lexer": "ipython3",
   "version": "3.10.8"
  }
 },
 "nbformat": 4,
 "nbformat_minor": 5
}
